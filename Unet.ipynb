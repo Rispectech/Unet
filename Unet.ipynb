{
  "nbformat": 4,
  "nbformat_minor": 0,
  "metadata": {
    "colab": {
      "name": "Unet.ipynb",
      "provenance": [],
      "collapsed_sections": [],
      "authorship_tag": "ABX9TyORtHDkZqREcxGgP59BQRVl",
      "include_colab_link": true
    },
    "kernelspec": {
      "name": "python3",
      "display_name": "Python 3"
    },
    "language_info": {
      "name": "python"
    },
    "widgets": {
      "application/vnd.jupyter.widget-state+json": {
        "7a67bfe9766c49b8b82349081d1a5d22": {
          "model_module": "@jupyter-widgets/controls",
          "model_name": "HBoxModel",
          "model_module_version": "1.5.0",
          "state": {
            "_view_name": "HBoxView",
            "_dom_classes": [],
            "_model_name": "HBoxModel",
            "_view_module": "@jupyter-widgets/controls",
            "_model_module_version": "1.5.0",
            "_view_count": null,
            "_view_module_version": "1.5.0",
            "box_style": "",
            "layout": "IPY_MODEL_4b18eb056f64465d8bb1414c9efb1e7f",
            "_model_module": "@jupyter-widgets/controls",
            "children": [
              "IPY_MODEL_8ae215ed28404505a75bf7e83664e353",
              "IPY_MODEL_37d5ba23b6644d78a263b5cc490142f0",
              "IPY_MODEL_d46e4022e5da4883a4dcab6fc247fca3"
            ]
          }
        },
        "4b18eb056f64465d8bb1414c9efb1e7f": {
          "model_module": "@jupyter-widgets/base",
          "model_name": "LayoutModel",
          "model_module_version": "1.2.0",
          "state": {
            "_view_name": "LayoutView",
            "grid_template_rows": null,
            "right": null,
            "justify_content": null,
            "_view_module": "@jupyter-widgets/base",
            "overflow": null,
            "_model_module_version": "1.2.0",
            "_view_count": null,
            "flex_flow": null,
            "width": null,
            "min_width": null,
            "border": null,
            "align_items": null,
            "bottom": null,
            "_model_module": "@jupyter-widgets/base",
            "top": null,
            "grid_column": null,
            "overflow_y": null,
            "overflow_x": null,
            "grid_auto_flow": null,
            "grid_area": null,
            "grid_template_columns": null,
            "flex": null,
            "_model_name": "LayoutModel",
            "justify_items": null,
            "grid_row": null,
            "max_height": null,
            "align_content": null,
            "visibility": null,
            "align_self": null,
            "height": null,
            "min_height": null,
            "padding": null,
            "grid_auto_rows": null,
            "grid_gap": null,
            "max_width": null,
            "order": null,
            "_view_module_version": "1.2.0",
            "grid_template_areas": null,
            "object_position": null,
            "object_fit": null,
            "grid_auto_columns": null,
            "margin": null,
            "display": null,
            "left": null
          }
        },
        "8ae215ed28404505a75bf7e83664e353": {
          "model_module": "@jupyter-widgets/controls",
          "model_name": "HTMLModel",
          "model_module_version": "1.5.0",
          "state": {
            "_view_name": "HTMLView",
            "style": "IPY_MODEL_d5fe2748a7c34b6d9c3587f4b3f587d6",
            "_dom_classes": [],
            "description": "",
            "_model_name": "HTMLModel",
            "placeholder": "​",
            "_view_module": "@jupyter-widgets/controls",
            "_model_module_version": "1.5.0",
            "value": "100%",
            "_view_count": null,
            "_view_module_version": "1.5.0",
            "description_tooltip": null,
            "_model_module": "@jupyter-widgets/controls",
            "layout": "IPY_MODEL_fceca1713c46449987c6023c758261be"
          }
        },
        "37d5ba23b6644d78a263b5cc490142f0": {
          "model_module": "@jupyter-widgets/controls",
          "model_name": "FloatProgressModel",
          "model_module_version": "1.5.0",
          "state": {
            "_view_name": "ProgressView",
            "style": "IPY_MODEL_5b0866a3e1b24fb8a7b250c5d20ab743",
            "_dom_classes": [],
            "description": "",
            "_model_name": "FloatProgressModel",
            "bar_style": "success",
            "max": 500,
            "_view_module": "@jupyter-widgets/controls",
            "_model_module_version": "1.5.0",
            "value": 500,
            "_view_count": null,
            "_view_module_version": "1.5.0",
            "orientation": "horizontal",
            "min": 0,
            "description_tooltip": null,
            "_model_module": "@jupyter-widgets/controls",
            "layout": "IPY_MODEL_83786b8f05a34459b61ac40b5c2fba87"
          }
        },
        "d46e4022e5da4883a4dcab6fc247fca3": {
          "model_module": "@jupyter-widgets/controls",
          "model_name": "HTMLModel",
          "model_module_version": "1.5.0",
          "state": {
            "_view_name": "HTMLView",
            "style": "IPY_MODEL_fc4ef7dbf20b43958eeb4afcee04f1cc",
            "_dom_classes": [],
            "description": "",
            "_model_name": "HTMLModel",
            "placeholder": "​",
            "_view_module": "@jupyter-widgets/controls",
            "_model_module_version": "1.5.0",
            "value": " 500/500 [00:20&lt;00:00, 24.06it/s]",
            "_view_count": null,
            "_view_module_version": "1.5.0",
            "description_tooltip": null,
            "_model_module": "@jupyter-widgets/controls",
            "layout": "IPY_MODEL_4d8e1c4df44c4023a00bd3be798be0a2"
          }
        },
        "d5fe2748a7c34b6d9c3587f4b3f587d6": {
          "model_module": "@jupyter-widgets/controls",
          "model_name": "DescriptionStyleModel",
          "model_module_version": "1.5.0",
          "state": {
            "_view_name": "StyleView",
            "_model_name": "DescriptionStyleModel",
            "description_width": "",
            "_view_module": "@jupyter-widgets/base",
            "_model_module_version": "1.5.0",
            "_view_count": null,
            "_view_module_version": "1.2.0",
            "_model_module": "@jupyter-widgets/controls"
          }
        },
        "fceca1713c46449987c6023c758261be": {
          "model_module": "@jupyter-widgets/base",
          "model_name": "LayoutModel",
          "model_module_version": "1.2.0",
          "state": {
            "_view_name": "LayoutView",
            "grid_template_rows": null,
            "right": null,
            "justify_content": null,
            "_view_module": "@jupyter-widgets/base",
            "overflow": null,
            "_model_module_version": "1.2.0",
            "_view_count": null,
            "flex_flow": null,
            "width": null,
            "min_width": null,
            "border": null,
            "align_items": null,
            "bottom": null,
            "_model_module": "@jupyter-widgets/base",
            "top": null,
            "grid_column": null,
            "overflow_y": null,
            "overflow_x": null,
            "grid_auto_flow": null,
            "grid_area": null,
            "grid_template_columns": null,
            "flex": null,
            "_model_name": "LayoutModel",
            "justify_items": null,
            "grid_row": null,
            "max_height": null,
            "align_content": null,
            "visibility": null,
            "align_self": null,
            "height": null,
            "min_height": null,
            "padding": null,
            "grid_auto_rows": null,
            "grid_gap": null,
            "max_width": null,
            "order": null,
            "_view_module_version": "1.2.0",
            "grid_template_areas": null,
            "object_position": null,
            "object_fit": null,
            "grid_auto_columns": null,
            "margin": null,
            "display": null,
            "left": null
          }
        },
        "5b0866a3e1b24fb8a7b250c5d20ab743": {
          "model_module": "@jupyter-widgets/controls",
          "model_name": "ProgressStyleModel",
          "model_module_version": "1.5.0",
          "state": {
            "_view_name": "StyleView",
            "_model_name": "ProgressStyleModel",
            "description_width": "",
            "_view_module": "@jupyter-widgets/base",
            "_model_module_version": "1.5.0",
            "_view_count": null,
            "_view_module_version": "1.2.0",
            "bar_color": null,
            "_model_module": "@jupyter-widgets/controls"
          }
        },
        "83786b8f05a34459b61ac40b5c2fba87": {
          "model_module": "@jupyter-widgets/base",
          "model_name": "LayoutModel",
          "model_module_version": "1.2.0",
          "state": {
            "_view_name": "LayoutView",
            "grid_template_rows": null,
            "right": null,
            "justify_content": null,
            "_view_module": "@jupyter-widgets/base",
            "overflow": null,
            "_model_module_version": "1.2.0",
            "_view_count": null,
            "flex_flow": null,
            "width": null,
            "min_width": null,
            "border": null,
            "align_items": null,
            "bottom": null,
            "_model_module": "@jupyter-widgets/base",
            "top": null,
            "grid_column": null,
            "overflow_y": null,
            "overflow_x": null,
            "grid_auto_flow": null,
            "grid_area": null,
            "grid_template_columns": null,
            "flex": null,
            "_model_name": "LayoutModel",
            "justify_items": null,
            "grid_row": null,
            "max_height": null,
            "align_content": null,
            "visibility": null,
            "align_self": null,
            "height": null,
            "min_height": null,
            "padding": null,
            "grid_auto_rows": null,
            "grid_gap": null,
            "max_width": null,
            "order": null,
            "_view_module_version": "1.2.0",
            "grid_template_areas": null,
            "object_position": null,
            "object_fit": null,
            "grid_auto_columns": null,
            "margin": null,
            "display": null,
            "left": null
          }
        },
        "fc4ef7dbf20b43958eeb4afcee04f1cc": {
          "model_module": "@jupyter-widgets/controls",
          "model_name": "DescriptionStyleModel",
          "model_module_version": "1.5.0",
          "state": {
            "_view_name": "StyleView",
            "_model_name": "DescriptionStyleModel",
            "description_width": "",
            "_view_module": "@jupyter-widgets/base",
            "_model_module_version": "1.5.0",
            "_view_count": null,
            "_view_module_version": "1.2.0",
            "_model_module": "@jupyter-widgets/controls"
          }
        },
        "4d8e1c4df44c4023a00bd3be798be0a2": {
          "model_module": "@jupyter-widgets/base",
          "model_name": "LayoutModel",
          "model_module_version": "1.2.0",
          "state": {
            "_view_name": "LayoutView",
            "grid_template_rows": null,
            "right": null,
            "justify_content": null,
            "_view_module": "@jupyter-widgets/base",
            "overflow": null,
            "_model_module_version": "1.2.0",
            "_view_count": null,
            "flex_flow": null,
            "width": null,
            "min_width": null,
            "border": null,
            "align_items": null,
            "bottom": null,
            "_model_module": "@jupyter-widgets/base",
            "top": null,
            "grid_column": null,
            "overflow_y": null,
            "overflow_x": null,
            "grid_auto_flow": null,
            "grid_area": null,
            "grid_template_columns": null,
            "flex": null,
            "_model_name": "LayoutModel",
            "justify_items": null,
            "grid_row": null,
            "max_height": null,
            "align_content": null,
            "visibility": null,
            "align_self": null,
            "height": null,
            "min_height": null,
            "padding": null,
            "grid_auto_rows": null,
            "grid_gap": null,
            "max_width": null,
            "order": null,
            "_view_module_version": "1.2.0",
            "grid_template_areas": null,
            "object_position": null,
            "object_fit": null,
            "grid_auto_columns": null,
            "margin": null,
            "display": null,
            "left": null
          }
        }
      }
    },
    "accelerator": "GPU"
  },
  "cells": [
    {
      "cell_type": "markdown",
      "metadata": {
        "id": "view-in-github",
        "colab_type": "text"
      },
      "source": [
        "<a href=\"https://colab.research.google.com/github/Rispectech/Unet/blob/main/Unet.ipynb\" target=\"_parent\"><img src=\"https://colab.research.google.com/assets/colab-badge.svg\" alt=\"Open In Colab\"/></a>"
      ]
    },
    {
      "cell_type": "code",
      "metadata": {
        "id": "uhf3cmUJsEcX"
      },
      "source": [
        "import os\n",
        "import glob\n",
        "import shutil\n",
        "import random\n",
        "import pandas as pd\n",
        "import numpy as np\n",
        "from skimage.transform import resize\n",
        "import matplotlib.pyplot as plt\n",
        "from matplotlib.pyplot import imshow\n",
        "\n",
        "from sklearn.model_selection import train_test_split\n",
        "\n",
        "import tensorflow as tf\n",
        "from tensorflow import keras \n",
        "\n",
        "from keras.models import Model, load_model\n",
        "from keras.layers import Input, BatchNormalization, Activation, Dense, Dropout\n",
        "from keras.layers.core import Reshape\n",
        "from keras.layers.convolutional import Conv2D, Conv2DTranspose\n",
        "from keras.layers.pooling import MaxPooling2D, GlobalMaxPool2D\n",
        "from keras.layers.merge import concatenate, add\n",
        "from tensorflow.keras.optimizers import Adam\n",
        "from keras.preprocessing.image import ImageDataGenerator, array_to_img, img_to_array, load_img\n",
        "%matplotlib inline"
      ],
      "execution_count": 129,
      "outputs": []
    },
    {
      "cell_type": "code",
      "metadata": {
        "colab": {
          "base_uri": "https://localhost:8080/"
        },
        "id": "fQkffGYFX2rE",
        "outputId": "2cb0d1c9-7502-4e50-a678-1acfa10498b7"
      },
      "source": [
        "from google.colab import drive\n",
        "drive.mount('/content/drive')"
      ],
      "execution_count": 130,
      "outputs": [
        {
          "output_type": "stream",
          "name": "stdout",
          "text": [
            "Drive already mounted at /content/drive; to attempt to forcibly remount, call drive.mount(\"/content/drive\", force_remount=True).\n"
          ]
        }
      ]
    },
    {
      "cell_type": "code",
      "metadata": {
        "id": "j_0rkV4Qwygi"
      },
      "source": [
        "# os.chdir(\"/content/drive/MyDrive/unet\")\n",
        "# if os.path.isdir('/content/drive/MyDrive/unet/train') is False:\n",
        "#     os.makedirs('/content/drive/MyDrive/unet/train/images')\n",
        "#     os.makedirs('/content/drive/MyDrive/unet/test/images')\n",
        "#     os.makedirs('/content/drive/MyDrive/unet/valid/images')\n",
        "#     os.makedirs('/content/drive/MyDrive/unet/train/mask')\n",
        "#     os.makedirs('/content/drive/MyDrive/unet/test/mask')\n",
        "#     os.makedirs('/content/drive/MyDrive/unet/valid/mask')\n",
        "#     for i in random.sample(glob.glob('/content/drive/MyDrive/unet/images/**'), 400):\n",
        "#         print(i)\n",
        "#         shutil.move(i, '/content/drive/MyDrive/unet/train/images')   \n",
        "#     for i in random.sample(glob.glob('/content/drive/MyDrive/unet/images/**'), 50):\n",
        "#         shutil.move(i, '/content/drive/MyDrive/unet/test/images')\n",
        "#     for i in random.sample(glob.glob('/content/drive/MyDrive/unet/images/**'), 50):\n",
        "#         shutil.move(i, '/content/drive/MyDrive/unet/valid/images')\n",
        "#     for i in random.sample(glob.glob('/content/drive/MyDrive/unet/masks/**'), 400):\n",
        "#         shutil.move(i, '/content/drive/MyDrive/unet/train/mask')  \n",
        "#     for i in random.sample(glob.glob('/content/drive/MyDrive/unet/masks/**'), 50):\n",
        "#         shutil.move(i, '/content/drive/MyDrive/unet/test/mask')\n",
        "#     for i in random.sample(glob.glob('/content/drive/MyDrive/unet/masks/**'), 50):\n",
        "#         shutil.move(i, '/content/drive/MyDrive/unetvalid/mask')\n"
      ],
      "execution_count": 131,
      "outputs": []
    },
    {
      "cell_type": "code",
      "metadata": {
        "id": "12wmCQsxV3f8"
      },
      "source": [
        "train_path = \"/content/drive/MyDrive/Unet/train\"\n",
        "test_path = \"/content/drive/MyDrive/Unet/test\"\n",
        "valid_path = \"/content/drive/MyDrive/Unet/valid\""
      ],
      "execution_count": 132,
      "outputs": []
    },
    {
      "cell_type": "code",
      "metadata": {
        "id": "xvgJrO2QkUc_"
      },
      "source": [
        "image_path = \"/content/drive/MyDrive/Unet_data/images/\"\n",
        "mask_path = \"/content/drive/MyDrive/Unet_data/masks/\"\n",
        "\n",
        "# image_path = \"/content/drive/MyDrive/UNET/images/\"\n",
        "# mask_path = \"/content/drive/MyDrive/UNET/masks/\"\n"
      ],
      "execution_count": 133,
      "outputs": []
    },
    {
      "cell_type": "code",
      "metadata": {
        "id": "xDaUZzyRbVk0"
      },
      "source": [
        "IMG_height = 128\n",
        "IMG_width = 128\n",
        "IMG_channel = 1 \n",
        "# IMG_height = 512\n",
        "# IMG_width = 512\n",
        "# IMG_channel = 1 "
      ],
      "execution_count": 134,
      "outputs": []
    },
    {
      "cell_type": "code",
      "metadata": {
        "id": "ndjB09Jc4Ien"
      },
      "source": [
        "# train_datagen = ImageDataGenerator(\n",
        "#         rescale=1./255,\n",
        "#         shear_range=0.2,\n",
        "#         zoom_range=0.2,\n",
        "#         horizontal_flip=True)\n",
        "# test_datagen = ImageDataGenerator(rescale=1./255)\n",
        "# image_generator = train_datagen.flow_from_directory(\n",
        "#         image_path,\n",
        "#         batch_size=32,\n",
        "#         class_mode='binary')\n",
        "# mask_generator = test_datagen.flow_from_directory(\n",
        "#         mask_path,\n",
        "#         target_size=(150, 150),\n",
        "#         batch_size=32,\n",
        "#         class_mode='binary')\n",
        "# print(image_generator)"
      ],
      "execution_count": 135,
      "outputs": []
    },
    {
      "cell_type": "code",
      "metadata": {
        "id": "3gMiQeJu0ohV",
        "colab": {
          "base_uri": "https://localhost:8080/"
        },
        "outputId": "6a1b7691-5e52-432f-e0f4-67d8025e976c"
      },
      "source": [
        "image_ids = next(os.walk(image_path))[2] # list of names all images in the given path\n",
        "print(\"No. of images = \", len(image_ids))\n",
        "print(image_ids)"
      ],
      "execution_count": 136,
      "outputs": [
        {
          "output_type": "stream",
          "name": "stdout",
          "text": [
            "No. of images =  500\n",
            "['1.png', '0.png', '102.png', '10.png', '100.png', '101.png', '121.png', '119.png', '106.png', '120.png', '103.png', '105.png', '117.png', '118.png', '115.png', '11.png', '113.png', '104.png', '110.png', '107.png', '109.png', '114.png', '108.png', '112.png', '12.png', '111.png', '116.png', '126.png', '13.png', '124.png', '128.png', '134.png', '135.png', '130.png', '129.png', '133.png', '132.png', '122.png', '123.png', '127.png', '125.png', '131.png', '150.png', '136.png', '15.png', '145.png', '140.png', '14.png', '146.png', '139.png', '144.png', '137.png', '142.png', '149.png', '143.png', '147.png', '138.png', '141.png', '148.png', '152.png', '158.png', '156.png', '16.png', '157.png', '165.png', '161.png', '159.png', '160.png', '153.png', '164.png', '155.png', '163.png', '162.png', '151.png', '154.png', '170.png', '18.png', '171.png', '169.png', '166.png', '178.png', '175.png', '167.png', '181.png', '179.png', '182.png', '174.png', '176.png', '17.png', '177.png', '168.png', '172.png', '180.png', '173.png', '195.png', '184.png', '186.png', '198.png', '185.png', '189.png', '190.png', '188.png', '191.png', '196.png', '192.png', '193.png', '19.png', '194.png', '187.png', '197.png', '183.png', '201.png', '215.png', '20.png', '210.png', '204.png', '214.png', '209.png', '2.png', '211.png', '205.png', '206.png', '213.png', '207.png', '199.png', '200.png', '212.png', '208.png', '203.png', '202.png', '21.png', '233.png', '224.png', '225.png', '230.png', '227.png', '218.png', '223.png', '221.png', '226.png', '219.png', '220.png', '222.png', '216.png', '232.png', '23.png', '231.png', '22.png', '228.png', '229.png', '217.png', '252.png', '249.png', '24.png', '246.png', '250.png', '248.png', '234.png', '237.png', '241.png', '240.png', '245.png', '25.png', '243.png', '239.png', '247.png', '235.png', '238.png', '242.png', '244.png', '236.png', '251.png', '264.png', '253.png', '265.png', '256.png', '254.png', '274.png', '267.png', '269.png', '262.png', '26.png', '263.png', '257.png', '259.png', '273.png', '266.png', '270.png', '258.png', '272.png', '271.png', '260.png', '268.png', '261.png', '27.png', '255.png', '281.png', '283.png', '290.png', '275.png', '289.png', '285.png', '279.png', '288.png', '278.png', '28.png', '29.png', '282.png', '286.png', '284.png', '277.png', '276.png', '287.png', '280.png', '291.png', '335.png', '295.png', '36.png', '322.png', '310.png', '341.png', '312.png', '317.png', '299.png', '370.png', '3.png', '35.png', '381.png', '313.png', '366.png', '34.png', '32.png', '298.png', '318.png', '315.png', '308.png', '304.png', '324.png', '376.png', '363.png', '333.png', '300.png', '344.png', '314.png', '348.png', '371.png', '365.png', '362.png', '354.png', '380.png', '355.png', '369.png', '375.png', '320.png', '323.png', '338.png', '383.png', '303.png', '319.png', '349.png', '325.png', '297.png', '30.png', '358.png', '302.png', '352.png', '364.png', '343.png', '293.png', '311.png', '353.png', '327.png', '334.png', '339.png', '372.png', '33.png', '37.png', '316.png', '342.png', '292.png', '359.png', '377.png', '336.png', '296.png', '330.png', '374.png', '379.png', '321.png', '345.png', '305.png', '31.png', '378.png', '38.png', '360.png', '307.png', '306.png', '347.png', '301.png', '384.png', '337.png', '356.png', '340.png', '328.png', '326.png', '382.png', '361.png', '367.png', '357.png', '329.png', '350.png', '351.png', '331.png', '346.png', '332.png', '309.png', '368.png', '294.png', '373.png', '428.png', '5.png', '52.png', '492.png', '390.png', '395.png', '45.png', '397.png', '496.png', '481.png', '429.png', '44.png', '490.png', '434.png', '499.png', '468.png', '393.png', '464.png', '436.png', '403.png', '440.png', '412.png', '421.png', '451.png', '462.png', '51.png', '414.png', '46.png', '471.png', '465.png', '435.png', '459.png', '60.png', '467.png', '54.png', '463.png', '445.png', '432.png', '420.png', '433.png', '456.png', '387.png', '396.png', '493.png', '470.png', '413.png', '455.png', '416.png', '423.png', '479.png', '40.png', '454.png', '42.png', '443.png', '442.png', '437.png', '475.png', '438.png', '476.png', '404.png', '425.png', '452.png', '419.png', '489.png', '458.png', '431.png', '401.png', '453.png', '441.png', '483.png', '43.png', '488.png', '53.png', '405.png', '474.png', '478.png', '406.png', '399.png', '409.png', '6.png', '61.png', '480.png', '430.png', '47.png', '410.png', '388.png', '57.png', '446.png', '448.png', '4.png', '477.png', '398.png', '391.png', '415.png', '41.png', '389.png', '497.png', '469.png', '417.png', '472.png', '426.png', '58.png', '482.png', '400.png', '457.png', '473.png', '422.png', '408.png', '487.png', '486.png', '485.png', '407.png', '55.png', '386.png', '424.png', '402.png', '59.png', '48.png', '495.png', '498.png', '444.png', '450.png', '385.png', '49.png', '466.png', '494.png', '411.png', '460.png', '50.png', '39.png', '447.png', '392.png', '461.png', '439.png', '394.png', '56.png', '449.png', '484.png', '418.png', '491.png', '427.png', '70.png', '8.png', '71.png', '80.png', '67.png', '66.png', '63.png', '81.png', '78.png', '76.png', '83.png', '62.png', '65.png', '77.png', '75.png', '68.png', '7.png', '74.png', '72.png', '73.png', '64.png', '79.png', '85.png', '82.png', '84.png', '69.png', '93.png', '91.png', '9.png', '90.png', '97.png', '89.png', '88.png', '92.png', '96.png', '98.png', '99.png', '95.png', '86.png', '94.png', '87.png']\n"
          ]
        }
      ]
    },
    {
      "cell_type": "code",
      "metadata": {
        "colab": {
          "base_uri": "https://localhost:8080/"
        },
        "id": "sSCIAvUnce6n",
        "outputId": "d491c42e-4f43-46c8-e898-fb256e7c788d"
      },
      "source": [
        "X = np.zeros((len(image_ids), IMG_height, IMG_width, 1), dtype=np.float32)\n",
        "y = np.zeros((len(image_ids), IMG_height, IMG_width, 1), dtype=np.float32)\n",
        "len(X)"
      ],
      "execution_count": 137,
      "outputs": [
        {
          "output_type": "execute_result",
          "data": {
            "text/plain": [
              "500"
            ]
          },
          "metadata": {},
          "execution_count": 137
        }
      ]
    },
    {
      "cell_type": "code",
      "metadata": {
        "id": "jZ4aC9Vge6MC"
      },
      "source": [
        "import tqdm\n",
        "from tqdm import tqdm_notebook, tnrange"
      ],
      "execution_count": 138,
      "outputs": []
    },
    {
      "cell_type": "code",
      "metadata": {
        "colab": {
          "base_uri": "https://localhost:8080/",
          "height": 100,
          "referenced_widgets": [
            "7a67bfe9766c49b8b82349081d1a5d22",
            "4b18eb056f64465d8bb1414c9efb1e7f",
            "8ae215ed28404505a75bf7e83664e353",
            "37d5ba23b6644d78a263b5cc490142f0",
            "d46e4022e5da4883a4dcab6fc247fca3",
            "d5fe2748a7c34b6d9c3587f4b3f587d6",
            "fceca1713c46449987c6023c758261be",
            "5b0866a3e1b24fb8a7b250c5d20ab743",
            "83786b8f05a34459b61ac40b5c2fba87",
            "fc4ef7dbf20b43958eeb4afcee04f1cc",
            "4d8e1c4df44c4023a00bd3be798be0a2"
          ]
        },
        "id": "GxP14DhEdZrH",
        "outputId": "300cfce3-cba5-4475-f1b9-ac07dc2b4b90"
      },
      "source": [
        "for n,i in tqdm_notebook(enumerate(image_ids), total=len(image_ids)):\n",
        "    # Load images\n",
        "      img = load_img(image_path +str(i), color_mode=\"grayscale\")\n",
        "      x_img = img_to_array(img)\n",
        "      x_img = resize(x_img, (128, 128, 1), mode = 'constant', preserve_range = True)\n",
        "      # Load masks\n",
        "      mask_i = str(i).split(\".\")[0] + \"_mask.png\"\n",
        "      mask = img_to_array(load_img(mask_path + mask_i, color_mode=\"grayscale\"))\n",
        "      mask = resize(mask, (128, 128, 1), mode = 'constant', preserve_range = True)\n",
        "      # Save images\n",
        "      X[n] = x_img/255.0\n",
        "      y[n] = mask/255.0\n",
        "      # X[n] = x_img\n",
        "      # y[n] = mask"
      ],
      "execution_count": 153,
      "outputs": [
        {
          "output_type": "stream",
          "name": "stderr",
          "text": [
            "/usr/local/lib/python3.7/dist-packages/ipykernel_launcher.py:1: TqdmDeprecationWarning: This function will be removed in tqdm==5.0.0\n",
            "Please use `tqdm.notebook.tqdm` instead of `tqdm.tqdm_notebook`\n",
            "  \"\"\"Entry point for launching an IPython kernel.\n"
          ]
        },
        {
          "output_type": "display_data",
          "data": {
            "application/vnd.jupyter.widget-view+json": {
              "model_id": "7a67bfe9766c49b8b82349081d1a5d22",
              "version_minor": 0,
              "version_major": 2
            },
            "text/plain": [
              "  0%|          | 0/500 [00:00<?, ?it/s]"
            ]
          },
          "metadata": {}
        }
      ]
    },
    {
      "cell_type": "code",
      "metadata": {
        "id": "reGprsxaWAAB"
      },
      "source": [
        "# print(X)\n",
        "# print(y)\n"
      ],
      "execution_count": 140,
      "outputs": []
    },
    {
      "cell_type": "code",
      "metadata": {
        "colab": {
          "base_uri": "https://localhost:8080/",
          "height": 519
        },
        "id": "s0iVx97XXKqe",
        "outputId": "b03ebfaf-8d63-47f2-8726-7822e364950d"
      },
      "source": [
        "image_x = random.randint(0,len(X))\n",
        "plt.imshow(np.squeeze(X[image_x]))\n",
        "plt.show()\n",
        "plt.imshow(np.squeeze(y[image_x]))\n",
        "plt.show()"
      ],
      "execution_count": 154,
      "outputs": [
        {
          "output_type": "display_data",
          "data": {
            "image/png": "[encoded data removed]",
            "text/plain": [
              "<Figure size 432x288 with 1 Axes>"
            ]
          },
          "metadata": {
            "needs_background": "light"
          }
        },
        {
          "output_type": "display_data",
          "data": {
            "image/png": "[encoded data removed]",
            "text/plain": [
              "<Figure size 432x288 with 1 Axes>"
            ]
          },
          "metadata": {
            "needs_background": "light"
          }
        }
      ]
    },
    {
      "cell_type": "code",
      "metadata": {
        "id": "Mh04CL1xo50G"
      },
      "source": [
        "X_train, X_valid, y_train, y_valid = train_test_split(X, y, test_size=0.1, random_state=42)"
      ],
      "execution_count": 155,
      "outputs": []
    },
    {
      "cell_type": "code",
      "metadata": {
        "colab": {
          "base_uri": "https://localhost:8080/"
        },
        "id": "t6Ci9vC8yk-S",
        "outputId": "6ddfd695-bf18-4624-9ad1-5a4a5d4fcbd7"
      },
      "source": [
        "# model\n",
        "\n",
        "input = Input((IMG_height,IMG_width,IMG_channel))\n",
        "\n",
        "# Contracting path\n",
        "\n",
        "c1 = Conv2D(16,(3,3),activation=\"relu\",kernel_initializer=\"he_normal\",padding = \"same\")(input)\n",
        "c1 = Dropout(0.1)(c1)\n",
        "c1 = Conv2D(16,(3,3),activation=\"relu\",kernel_initializer=\"he_normal\",padding = \"same\")(c1)\n",
        "p1 = MaxPooling2D((2,2))(c1)\n",
        "\n",
        "c2 = Conv2D(32, (3, 3), activation='relu', kernel_initializer='he_normal', padding='same')(p1)\n",
        "c2 = Dropout(0.1)(c2)\n",
        "c2 = Conv2D(32, (3, 3), activation='relu', kernel_initializer='he_normal', padding='same')(c2)\n",
        "p2 = MaxPooling2D((2, 2))(c2)\n",
        "\n",
        "\n",
        "c3 = Conv2D(64, (3, 3), activation='relu', kernel_initializer='he_normal', padding='same')(p2)\n",
        "c3 = Dropout(0.2)(c3)\n",
        "c3 = Conv2D(64, (3, 3), activation='relu', kernel_initializer='he_normal', padding='same')(c3)\n",
        "p3 = MaxPooling2D((2, 2))(c3)\n",
        " \n",
        "c4 = Conv2D(128, (3, 3), activation='relu', kernel_initializer='he_normal', padding='same')(p3)\n",
        "c4 = Dropout(0.2)(c4)\n",
        "c4 = Conv2D(128, (3, 3), activation='relu', kernel_initializer='he_normal', padding='same')(c4)\n",
        "p4 = MaxPooling2D(pool_size=(2, 2))(c4)\n",
        " \n",
        "c5 = Conv2D(256, (3, 3), activation='relu', kernel_initializer='he_normal', padding='same')(p4)\n",
        "c5 = Dropout(0.3)(c5)\n",
        "c5 = Conv2D(256, (3, 3), activation='relu', kernel_initializer='he_normal', padding='same')(c5)\n",
        "\n",
        "\n",
        "#Expansive path \n",
        "u6 = Conv2DTranspose(128, (2, 2), strides=(2, 2), padding='same')(c5)\n",
        "u6 = concatenate([u6, c4])\n",
        "c6 = Conv2D(128, (3, 3), activation='relu', kernel_initializer='he_normal', padding='same')(u6)\n",
        "c6 = Dropout(0.2)(c6)\n",
        "c6 = Conv2D(128, (3, 3), activation='relu', kernel_initializer='he_normal', padding='same')(c6)\n",
        " \n",
        "u7 = Conv2DTranspose(64, (2, 2), strides=(2, 2), padding='same')(c6)\n",
        "u7 = concatenate([u7, c3])\n",
        "c7 = Conv2D(64, (3, 3), activation='relu', kernel_initializer='he_normal', padding='same')(u7)\n",
        "c7 = Dropout(0.2)(c7)\n",
        "c7 = Conv2D(64, (3, 3), activation='relu', kernel_initializer='he_normal', padding='same')(c7)\n",
        " \n",
        "u8 = Conv2DTranspose(32, (2, 2), strides=(2, 2), padding='same')(c7)\n",
        "u8 = concatenate([u8, c2])\n",
        "c8 = Conv2D(32, (3, 3), activation='relu', kernel_initializer='he_normal', padding='same')(u8)\n",
        "c8 = Dropout(0.1)(c8)\n",
        "c8 = Conv2D(32, (3, 3), activation='relu', kernel_initializer='he_normal', padding='same')(c8)\n",
        " \n",
        "u9 = Conv2DTranspose(16, (2, 2), strides=(2, 2), padding='same')(c8)\n",
        "u9 = concatenate([u9, c1], axis=3)\n",
        "c9 = Conv2D(16, (3, 3), activation='relu', kernel_initializer='he_normal', padding='same')(u9)\n",
        "c9 = Dropout(0.1)(c9)\n",
        "c9 = Conv2D(16, (3, 3), activation='relu', kernel_initializer='he_normal', padding='same')(c9)\n",
        " \n",
        "outputs = Conv2D(1, (1, 1), activation='sigmoid')(c9)\n",
        " \n",
        "model = tf.keras.Model(inputs=[input], outputs=[outputs])\n",
        "model.compile(optimizer='adam', loss='binary_crossentropy', metrics=['accuracy'])\n",
        "model.summary()"
      ],
      "execution_count": 156,
      "outputs": [
        {
          "output_type": "stream",
          "name": "stdout",
          "text": [
            "Model: \"model_7\"\n",
            "__________________________________________________________________________________________________\n",
            " Layer (type)                   Output Shape         Param #     Connected to                     \n",
            "==================================================================================================\n",
            " input_8 (InputLayer)           [(None, 128, 128, 1  0           []                               \n",
            "                                )]                                                                \n",
            "                                                                                                  \n",
            " conv2d_133 (Conv2D)            (None, 128, 128, 16  160         ['input_8[0][0]']                \n",
            "                                )                                                                 \n",
            "                                                                                                  \n",
            " dropout_63 (Dropout)           (None, 128, 128, 16  0           ['conv2d_133[0][0]']             \n",
            "                                )                                                                 \n",
            "                                                                                                  \n",
            " conv2d_134 (Conv2D)            (None, 128, 128, 16  2320        ['dropout_63[0][0]']             \n",
            "                                )                                                                 \n",
            "                                                                                                  \n",
            " max_pooling2d_28 (MaxPooling2D  (None, 64, 64, 16)  0           ['conv2d_134[0][0]']             \n",
            " )                                                                                                \n",
            "                                                                                                  \n",
            " conv2d_135 (Conv2D)            (None, 64, 64, 32)   4640        ['max_pooling2d_28[0][0]']       \n",
            "                                                                                                  \n",
            " dropout_64 (Dropout)           (None, 64, 64, 32)   0           ['conv2d_135[0][0]']             \n",
            "                                                                                                  \n",
            " conv2d_136 (Conv2D)            (None, 64, 64, 32)   9248        ['dropout_64[0][0]']             \n",
            "                                                                                                  \n",
            " max_pooling2d_29 (MaxPooling2D  (None, 32, 32, 32)  0           ['conv2d_136[0][0]']             \n",
            " )                                                                                                \n",
            "                                                                                                  \n",
            " conv2d_137 (Conv2D)            (None, 32, 32, 64)   18496       ['max_pooling2d_29[0][0]']       \n",
            "                                                                                                  \n",
            " dropout_65 (Dropout)           (None, 32, 32, 64)   0           ['conv2d_137[0][0]']             \n",
            "                                                                                                  \n",
            " conv2d_138 (Conv2D)            (None, 32, 32, 64)   36928       ['dropout_65[0][0]']             \n",
            "                                                                                                  \n",
            " max_pooling2d_30 (MaxPooling2D  (None, 16, 16, 64)  0           ['conv2d_138[0][0]']             \n",
            " )                                                                                                \n",
            "                                                                                                  \n",
            " conv2d_139 (Conv2D)            (None, 16, 16, 128)  73856       ['max_pooling2d_30[0][0]']       \n",
            "                                                                                                  \n",
            " dropout_66 (Dropout)           (None, 16, 16, 128)  0           ['conv2d_139[0][0]']             \n",
            "                                                                                                  \n",
            " conv2d_140 (Conv2D)            (None, 16, 16, 128)  147584      ['dropout_66[0][0]']             \n",
            "                                                                                                  \n",
            " max_pooling2d_31 (MaxPooling2D  (None, 8, 8, 128)   0           ['conv2d_140[0][0]']             \n",
            " )                                                                                                \n",
            "                                                                                                  \n",
            " conv2d_141 (Conv2D)            (None, 8, 8, 256)    295168      ['max_pooling2d_31[0][0]']       \n",
            "                                                                                                  \n",
            " dropout_67 (Dropout)           (None, 8, 8, 256)    0           ['conv2d_141[0][0]']             \n",
            "                                                                                                  \n",
            " conv2d_142 (Conv2D)            (None, 8, 8, 256)    590080      ['dropout_67[0][0]']             \n",
            "                                                                                                  \n",
            " conv2d_transpose_28 (Conv2DTra  (None, 16, 16, 128)  131200     ['conv2d_142[0][0]']             \n",
            " nspose)                                                                                          \n",
            "                                                                                                  \n",
            " concatenate_28 (Concatenate)   (None, 16, 16, 256)  0           ['conv2d_transpose_28[0][0]',    \n",
            "                                                                  'conv2d_140[0][0]']             \n",
            "                                                                                                  \n",
            " conv2d_143 (Conv2D)            (None, 16, 16, 128)  295040      ['concatenate_28[0][0]']         \n",
            "                                                                                                  \n",
            " dropout_68 (Dropout)           (None, 16, 16, 128)  0           ['conv2d_143[0][0]']             \n",
            "                                                                                                  \n",
            " conv2d_144 (Conv2D)            (None, 16, 16, 128)  147584      ['dropout_68[0][0]']             \n",
            "                                                                                                  \n",
            " conv2d_transpose_29 (Conv2DTra  (None, 32, 32, 64)  32832       ['conv2d_144[0][0]']             \n",
            " nspose)                                                                                          \n",
            "                                                                                                  \n",
            " concatenate_29 (Concatenate)   (None, 32, 32, 128)  0           ['conv2d_transpose_29[0][0]',    \n",
            "                                                                  'conv2d_138[0][0]']             \n",
            "                                                                                                  \n",
            " conv2d_145 (Conv2D)            (None, 32, 32, 64)   73792       ['concatenate_29[0][0]']         \n",
            "                                                                                                  \n",
            " dropout_69 (Dropout)           (None, 32, 32, 64)   0           ['conv2d_145[0][0]']             \n",
            "                                                                                                  \n",
            " conv2d_146 (Conv2D)            (None, 32, 32, 64)   36928       ['dropout_69[0][0]']             \n",
            "                                                                                                  \n",
            " conv2d_transpose_30 (Conv2DTra  (None, 64, 64, 32)  8224        ['conv2d_146[0][0]']             \n",
            " nspose)                                                                                          \n",
            "                                                                                                  \n",
            " concatenate_30 (Concatenate)   (None, 64, 64, 64)   0           ['conv2d_transpose_30[0][0]',    \n",
            "                                                                  'conv2d_136[0][0]']             \n",
            "                                                                                                  \n",
            " conv2d_147 (Conv2D)            (None, 64, 64, 32)   18464       ['concatenate_30[0][0]']         \n",
            "                                                                                                  \n",
            " dropout_70 (Dropout)           (None, 64, 64, 32)   0           ['conv2d_147[0][0]']             \n",
            "                                                                                                  \n",
            " conv2d_148 (Conv2D)            (None, 64, 64, 32)   9248        ['dropout_70[0][0]']             \n",
            "                                                                                                  \n",
            " conv2d_transpose_31 (Conv2DTra  (None, 128, 128, 16  2064       ['conv2d_148[0][0]']             \n",
            " nspose)                        )                                                                 \n",
            "                                                                                                  \n",
            " concatenate_31 (Concatenate)   (None, 128, 128, 32  0           ['conv2d_transpose_31[0][0]',    \n",
            "                                )                                 'conv2d_134[0][0]']             \n",
            "                                                                                                  \n",
            " conv2d_149 (Conv2D)            (None, 128, 128, 16  4624        ['concatenate_31[0][0]']         \n",
            "                                )                                                                 \n",
            "                                                                                                  \n",
            " dropout_71 (Dropout)           (None, 128, 128, 16  0           ['conv2d_149[0][0]']             \n",
            "                                )                                                                 \n",
            "                                                                                                  \n",
            " conv2d_150 (Conv2D)            (None, 128, 128, 16  2320        ['dropout_71[0][0]']             \n",
            "                                )                                                                 \n",
            "                                                                                                  \n",
            " conv2d_151 (Conv2D)            (None, 128, 128, 1)  17          ['conv2d_150[0][0]']             \n",
            "                                                                                                  \n",
            "==================================================================================================\n",
            "Total params: 1,940,817\n",
            "Trainable params: 1,940,817\n",
            "Non-trainable params: 0\n",
            "__________________________________________________________________________________________________\n"
          ]
        }
      ]
    },
    {
      "cell_type": "code",
      "metadata": {
        "colab": {
          "base_uri": "https://localhost:8080/"
        },
        "id": "GTQFVofZ5FTw",
        "outputId": "a2fc7bd3-3303-4c5f-8173-b0f50fd21371"
      },
      "source": [
        "results = model.fit(X_train, y_train, batch_size=32, epochs=10,\n",
        "                    validation_data=(X_valid, y_valid))"
      ],
      "execution_count": 157,
      "outputs": [
        {
          "output_type": "stream",
          "name": "stdout",
          "text": [
            "Epoch 1/10\n",
            "15/15 [==============================] - 5s 199ms/step - loss: 0.4061 - accuracy: 0.8706 - val_loss: 0.2054 - val_accuracy: 0.9751\n",
            "Epoch 2/10\n",
            "15/15 [==============================] - 2s 162ms/step - loss: 0.0989 - accuracy: 0.9744 - val_loss: 0.0809 - val_accuracy: 0.9751\n",
            "Epoch 3/10\n",
            "15/15 [==============================] - 2s 161ms/step - loss: 0.0712 - accuracy: 0.9744 - val_loss: 0.0860 - val_accuracy: 0.9751\n",
            "Epoch 4/10\n",
            "15/15 [==============================] - 2s 161ms/step - loss: 0.0628 - accuracy: 0.9744 - val_loss: 0.0598 - val_accuracy: 0.9751\n",
            "Epoch 5/10\n",
            "15/15 [==============================] - 2s 162ms/step - loss: 0.0527 - accuracy: 0.9744 - val_loss: 0.0555 - val_accuracy: 0.9751\n",
            "Epoch 6/10\n",
            "15/15 [==============================] - 2s 162ms/step - loss: 0.0462 - accuracy: 0.9744 - val_loss: 0.0714 - val_accuracy: 0.9751\n",
            "Epoch 7/10\n",
            "15/15 [==============================] - 2s 162ms/step - loss: 0.0430 - accuracy: 0.9744 - val_loss: 0.0546 - val_accuracy: 0.9751\n",
            "Epoch 8/10\n",
            "15/15 [==============================] - 2s 162ms/step - loss: 0.0352 - accuracy: 0.9744 - val_loss: 0.0444 - val_accuracy: 0.9751\n",
            "Epoch 9/10\n",
            "15/15 [==============================] - 2s 162ms/step - loss: 0.0316 - accuracy: 0.9753 - val_loss: 0.0515 - val_accuracy: 0.9785\n",
            "Epoch 10/10\n",
            "15/15 [==============================] - 2s 161ms/step - loss: 0.0341 - accuracy: 0.9787 - val_loss: 0.0310 - val_accuracy: 0.9790\n"
          ]
        }
      ]
    },
    {
      "cell_type": "code",
      "metadata": {
        "id": "39O6ELQz7wmc",
        "colab": {
          "base_uri": "https://localhost:8080/"
        },
        "outputId": "40e9e823-3940-4731-bb6e-c9341ff6228d"
      },
      "source": [
        "print(results)"
      ],
      "execution_count": 145,
      "outputs": [
        {
          "output_type": "stream",
          "name": "stdout",
          "text": [
            "<keras.callbacks.History object at 0x7f84f037a390>\n"
          ]
        }
      ]
    },
    {
      "cell_type": "code",
      "metadata": {
        "id": "2z5kJEH4arPf",
        "colab": {
          "base_uri": "https://localhost:8080/"
        },
        "outputId": "4071fd98-9fe5-4789-e0ba-82e5957009dd"
      },
      "source": [
        "preds_train = model.predict(X_train, verbose=1)\n",
        "preds_val = model.predict(X_valid, verbose=1)"
      ],
      "execution_count": 158,
      "outputs": [
        {
          "output_type": "stream",
          "name": "stdout",
          "text": [
            "15/15 [==============================] - 1s 56ms/step\n",
            "2/2 [==============================] - 0s 43ms/step\n"
          ]
        }
      ]
    },
    {
      "cell_type": "code",
      "metadata": {
        "id": "NvMJ4YWcbNEn",
        "colab": {
          "base_uri": "https://localhost:8080/",
          "height": 770
        },
        "outputId": "995a7b43-3ba4-4c90-ef1a-c78e2867fef0"
      },
      "source": [
        "ix = random.randint(0, len(preds_train))\n",
        "imshow(np.squeeze(X_train[ix]))\n",
        "plt.show()\n",
        "imshow(np.squeeze(y_train[ix]))\n",
        "plt.show()\n",
        "imshow(np.squeeze(preds_train[ix]))\n",
        "plt.show()"
      ],
      "execution_count": 159,
      "outputs": [
        {
          "output_type": "display_data",
          "data": {
            "image/png": "[encoded data removed]",
            "text/plain": [
              "<Figure size 432x288 with 1 Axes>"
            ]
          },
          "metadata": {
            "needs_background": "light"
          }
        },
        {
          "output_type": "display_data",
          "data": {
            "image/png": "[encoded data removed]",
            "text/plain": [
              "<Figure size 432x288 with 1 Axes>"
            ]
          },
          "metadata": {
            "needs_background": "light"
          }
        },
        {
          "output_type": "display_data",
          "data": {
            "image/png": "[encoded data removed]",
            "text/plain": [
              "<Figure size 432x288 with 1 Axes>"
            ]
          },
          "metadata": {
            "needs_background": "light"
          }
        }
      ]
    },
    {
      "cell_type": "code",
      "metadata": {
        "id": "pMlGvmNIgCri",
        "colab": {
          "base_uri": "https://localhost:8080/"
        },
        "outputId": "0b60868a-fb01-454b-bc85-0342f5193712"
      },
      "source": [
        "preds_train[ix]"
      ],
      "execution_count": 160,
      "outputs": [
        {
          "output_type": "execute_result",
          "data": {
            "text/plain": [
              "array([[[4.06732894e-02],\n",
              "        [3.48145928e-04],\n",
              "        [1.00682781e-03],\n",
              "        ...,\n",
              "        [2.97298953e-07],\n",
              "        [2.17946377e-04],\n",
              "        [1.43993192e-03]],\n",
              "\n",
              "       [[1.09416278e-05],\n",
              "        [2.27957548e-06],\n",
              "        [2.16799842e-10],\n",
              "        ...,\n",
              "        [1.87549282e-12],\n",
              "        [6.37122688e-10],\n",
              "        [7.63723563e-07]],\n",
              "\n",
              "       [[7.80441696e-05],\n",
              "        [1.36694378e-09],\n",
              "        [2.89018592e-12],\n",
              "        ...,\n",
              "        [1.30466251e-17],\n",
              "        [6.86851661e-12],\n",
              "        [1.55904402e-07]],\n",
              "\n",
              "       ...,\n",
              "\n",
              "       [[3.76340904e-04],\n",
              "        [8.47833164e-08],\n",
              "        [4.81304163e-11],\n",
              "        ...,\n",
              "        [5.64618187e-12],\n",
              "        [8.29575797e-10],\n",
              "        [3.39545613e-06]],\n",
              "\n",
              "       [[3.25187598e-03],\n",
              "        [1.31840661e-05],\n",
              "        [5.77516310e-08],\n",
              "        ...,\n",
              "        [3.05520098e-09],\n",
              "        [7.46921245e-08],\n",
              "        [4.60369556e-05]],\n",
              "\n",
              "       [[4.97120097e-02],\n",
              "        [3.19476170e-03],\n",
              "        [7.03601327e-05],\n",
              "        ...,\n",
              "        [1.57032957e-06],\n",
              "        [1.08012784e-04],\n",
              "        [3.95655516e-04]]], dtype=float32)"
            ]
          },
          "metadata": {},
          "execution_count": 160
        }
      ]
    }
  ]
}